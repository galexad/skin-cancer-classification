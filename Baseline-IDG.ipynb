{
 "cells": [
  {
   "cell_type": "code",
   "execution_count": 6,
   "metadata": {},
   "outputs": [],
   "source": [
    "import numpy as np\n",
    "import sklearn\n",
    "from PIL import Image\n",
    "import matplotlib.pyplot as plt\n",
    "import pandas as pd\n",
    "from imblearn.over_sampling import SMOTE\n",
    "from imblearn.pipeline import Pipeline\n",
    "from sklearn.model_selection import train_test_split\n",
    "from keras.preprocessing.image import ImageDataGenerator\n",
    "\n",
    "\n",
    "%matplotlib inline"
   ]
  },
  {
   "cell_type": "code",
   "execution_count": 7,
   "metadata": {},
   "outputs": [],
   "source": [
    "SIZE = 28\n",
    "meta = pd.read_csv('metadata.csv', delimiter=',')\n",
    "data = np.loadtxt(f'hmnist_{SIZE}_{SIZE}_L.csv', delimiter=',', skiprows=1, usecols=range(SIZE * SIZE))\n",
    "\n",
    "folder = \"./baseline-IDG-lr0.001-epoch50-batchsize32\"\n",
    "labels = list(meta.dx.unique())"
   ]
  },
  {
   "cell_type": "code",
   "execution_count": 8,
   "metadata": {},
   "outputs": [],
   "source": [
    "from tensorflow.keras.utils import to_categorical\n",
    "from sklearn import preprocessing\n",
    "\n",
    "label_encoder = preprocessing.LabelEncoder()\n",
    "X_train, X_test, y_train, y_test = train_test_split(data, to_categorical(label_encoder.fit_transform(meta.dx)), test_size=0.2, random_state=42069)\n",
    "\n"
   ]
  },
  {
   "cell_type": "code",
   "execution_count": 9,
   "metadata": {},
   "outputs": [],
   "source": [
    "X_train = np.array(X_train).reshape(-1, SIZE, SIZE,1)\n",
    "X_test = np.array(X_test).reshape(-1, SIZE, SIZE,1)\n",
    "\n",
    "# With data augmentation to prevent overfitting \n",
    "datagen = ImageDataGenerator(\n",
    "    rotation_range=10,\n",
    "    zoom_range=0.1,\n",
    "    width_shift_range=0.1,\n",
    "    height_shift_range=0.1,\n",
    "    horizontal_flip=True,\n",
    "    vertical_flip=False,\n",
    "    validation_split=0.25\n",
    ")\n",
    "\n",
    "datagen.fit(X_train)\n"
   ]
  },
  {
   "cell_type": "code",
   "execution_count": 10,
   "metadata": {},
   "outputs": [
    {
     "name": "stdout",
     "output_type": "stream",
     "text": [
      "Model: \"sequential\"\n",
      "_________________________________________________________________\n",
      " Layer (type)                Output Shape              Param #   \n",
      "=================================================================\n",
      " conv2d (Conv2D)             (None, 26, 26, 16)        160       \n",
      "                                                                 \n",
      " max_pooling2d (MaxPooling2D  (None, 13, 13, 16)       0         \n",
      " )                                                               \n",
      "                                                                 \n",
      " flatten (Flatten)           (None, 2704)              0         \n",
      "                                                                 \n",
      " dense (Dense)               (None, 7)                 18935     \n",
      "                                                                 \n",
      "=================================================================\n",
      "Total params: 19,095\n",
      "Trainable params: 19,095\n",
      "Non-trainable params: 0\n",
      "_________________________________________________________________\n",
      "Epoch 1/20\n"
     ]
    },
    {
     "name": "stderr",
     "output_type": "stream",
     "text": [
      "2023-03-15 20:36:14.429595: E tensorflow/compiler/xla/stream_executor/cuda/cuda_driver.cc:267] failed call to cuInit: CUDA_ERROR_UNKNOWN: unknown error\n",
      "2023-03-15 20:36:14.429621: I tensorflow/compiler/xla/stream_executor/cuda/cuda_diagnostics.cc:169] retrieving CUDA diagnostic information for host: x1-6226\n",
      "2023-03-15 20:36:14.429626: I tensorflow/compiler/xla/stream_executor/cuda/cuda_diagnostics.cc:176] hostname: x1-6226\n",
      "2023-03-15 20:36:14.429706: I tensorflow/compiler/xla/stream_executor/cuda/cuda_diagnostics.cc:200] libcuda reported version is: 470.161.3\n",
      "2023-03-15 20:36:14.429730: I tensorflow/compiler/xla/stream_executor/cuda/cuda_diagnostics.cc:204] kernel reported version is: 470.161.3\n",
      "2023-03-15 20:36:14.429740: I tensorflow/compiler/xla/stream_executor/cuda/cuda_diagnostics.cc:310] kernel version seems to match DSO: 470.161.3\n",
      "2023-03-15 20:36:14.430052: I tensorflow/core/platform/cpu_feature_guard.cc:193] This TensorFlow binary is optimized with oneAPI Deep Neural Network Library (oneDNN) to use the following CPU instructions in performance-critical operations:  AVX2 FMA\n",
      "To enable them in other operations, rebuild TensorFlow with the appropriate compiler flags.\n"
     ]
    },
    {
     "name": "stdout",
     "output_type": "stream",
     "text": [
      "187/187 [==============================] - 3s 13ms/step - loss: 8.7006 - accuracy: 0.5351 - val_loss: 1.9523 - val_accuracy: 0.6089\n",
      "Epoch 2/20\n",
      "187/187 [==============================] - 2s 13ms/step - loss: 1.8693 - accuracy: 0.5954 - val_loss: 1.4521 - val_accuracy: 0.6124\n",
      "Epoch 3/20\n",
      "187/187 [==============================] - 2s 12ms/step - loss: 1.4019 - accuracy: 0.6256 - val_loss: 1.3220 - val_accuracy: 0.6376\n",
      "Epoch 4/20\n",
      "187/187 [==============================] - 2s 12ms/step - loss: 1.3372 - accuracy: 0.6309 - val_loss: 1.2268 - val_accuracy: 0.6371\n",
      "Epoch 5/20\n",
      "187/187 [==============================] - 2s 12ms/step - loss: 1.2574 - accuracy: 0.6440 - val_loss: 1.2600 - val_accuracy: 0.6552\n",
      "Epoch 6/20\n",
      "187/187 [==============================] - 2s 12ms/step - loss: 1.2063 - accuracy: 0.6436 - val_loss: 1.2101 - val_accuracy: 0.6094\n",
      "Epoch 7/20\n",
      "187/187 [==============================] - 2s 12ms/step - loss: 1.1931 - accuracy: 0.6562 - val_loss: 1.1477 - val_accuracy: 0.6522\n",
      "Epoch 8/20\n",
      "187/187 [==============================] - 2s 12ms/step - loss: 1.1802 - accuracy: 0.6488 - val_loss: 1.2106 - val_accuracy: 0.6552\n",
      "Epoch 9/20\n",
      "187/187 [==============================] - 2s 12ms/step - loss: 1.1954 - accuracy: 0.6487 - val_loss: 1.1602 - val_accuracy: 0.6351\n",
      "Epoch 10/20\n",
      "187/187 [==============================] - 2s 12ms/step - loss: 1.1484 - accuracy: 0.6602 - val_loss: 1.1630 - val_accuracy: 0.6467\n",
      "Epoch 11/20\n",
      "187/187 [==============================] - 2s 12ms/step - loss: 1.1582 - accuracy: 0.6552 - val_loss: 1.2284 - val_accuracy: 0.6487\n",
      "Epoch 12/20\n",
      "187/187 [==============================] - 2s 12ms/step - loss: 1.1225 - accuracy: 0.6615 - val_loss: 1.2308 - val_accuracy: 0.6668\n",
      "Epoch 13/20\n",
      "187/187 [==============================] - 2s 12ms/step - loss: 1.1422 - accuracy: 0.6540 - val_loss: 1.1081 - val_accuracy: 0.6618\n",
      "Epoch 14/20\n",
      "187/187 [==============================] - 2s 12ms/step - loss: 1.1391 - accuracy: 0.6629 - val_loss: 1.1524 - val_accuracy: 0.6537\n",
      "Epoch 15/20\n",
      "187/187 [==============================] - 2s 13ms/step - loss: 1.1267 - accuracy: 0.6609 - val_loss: 1.2251 - val_accuracy: 0.6008\n",
      "Epoch 16/20\n",
      "187/187 [==============================] - 2s 13ms/step - loss: 1.1419 - accuracy: 0.6555 - val_loss: 1.1115 - val_accuracy: 0.6568\n",
      "Epoch 17/20\n",
      "187/187 [==============================] - 2s 12ms/step - loss: 1.1042 - accuracy: 0.6679 - val_loss: 1.1206 - val_accuracy: 0.6643\n",
      "Epoch 18/20\n",
      "187/187 [==============================] - 2s 12ms/step - loss: 1.1400 - accuracy: 0.6580 - val_loss: 1.1343 - val_accuracy: 0.6245\n",
      "Epoch 19/20\n",
      "187/187 [==============================] - 2s 12ms/step - loss: 1.0871 - accuracy: 0.6667 - val_loss: 1.1533 - val_accuracy: 0.6613\n",
      "Epoch 20/20\n",
      "187/187 [==============================] - 2s 12ms/step - loss: 1.0982 - accuracy: 0.6604 - val_loss: 1.1041 - val_accuracy: 0.6583\n",
      "Test loss: 1.1760398149490356\n",
      "Test accuracy: 0.6390414237976074\n"
     ]
    }
   ],
   "source": [
    "from tensorflow.keras.models import Sequential\n",
    "from tensorflow.keras.layers import Conv2D, MaxPool2D, Flatten, Dense\n",
    "from tensorflow.keras.optimizers import Adam\n",
    "\n",
    "model = Sequential()\n",
    "model.add(Conv2D(16, kernel_size=(3, 3), activation='leaky_relu', input_shape=(28,28,1)))\n",
    "model.add(MaxPool2D(pool_size=(2, 2)))\n",
    "model.add(Flatten())\n",
    "model.add(Dense(7, activation='softmax'))\n",
    "model.summary()\n",
    "\n",
    "optimizer = Adam(learning_rate=0.001)\n",
    "\n",
    "model.compile(loss='categorical_crossentropy', optimizer=optimizer, metrics=['accuracy'])\n",
    "\n",
    "history = model.fit(datagen.flow(X_train, y_train, batch_size=32, subset='training'),\n",
    "                    steps_per_epoch=(len(X_train) * 0.75) // 32,\n",
    "                    epochs=20,\n",
    "                    validation_data=datagen.flow(X_train, y_train, batch_size=32, subset='validation'),\n",
    "                    validation_steps=(len(X_train) * 0.25) // 32)\n",
    "\n",
    "score = model.evaluate(X_test, y_test, verbose=0)\n",
    "print('Test loss:', score[0])\n",
    "print('Test accuracy:', score[1])\n"
   ]
  },
  {
   "cell_type": "code",
   "execution_count": 11,
   "metadata": {},
   "outputs": [],
   "source": [
    "def plot_model_history(model_history):\n",
    "    print(model_history.history.keys)\n",
    "    fig, axs = plt.subplots(1,2,figsize=(15,5))\n",
    "    # summarize history for accuracy\n",
    "    axs[0].plot(range(1,len(model_history.history['accuracy'])+1),model_history.history['accuracy'])\n",
    "    axs[0].plot(range(1,len(model_history.history['val_accuracy'])+1),model_history.history['val_accuracy'])\n",
    "    axs[0].set_title('Model Accuracy')\n",
    "    axs[0].set_ylabel('Accuracy')\n",
    "    axs[0].set_xlabel('Epoch')\n",
    "    # axs[0].set_xticks(np.arange(1,len(model_history.history['accuracy'])+1),len(model_history.history['accuracy'])//10)\n",
    "    axs[0].legend(['train', 'val'], loc='best')\n",
    "    # summarize history for loss\n",
    "    axs[1].plot(range(1,len(model_history.history['loss'])+1),model_history.history['loss'])\n",
    "    axs[1].plot(range(1,len(model_history.history['val_loss'])+1),model_history.history['val_loss'])\n",
    "    axs[1].set_title('Model Loss')\n",
    "    axs[1].set_ylabel('Loss')\n",
    "    axs[1].set_xlabel('Epoch')\n",
    "    # axs[1].set_xticks(np.arange(1,len(model_history.history['loss'])+1),len(model_history.history['loss'])/10)\n",
    "    axs[1].legend(['train', 'val'], loc='best')\n",
    "    plt.show()"
   ]
  },
  {
   "cell_type": "code",
   "execution_count": 12,
   "metadata": {},
   "outputs": [],
   "source": [
    "import itertools\n",
    "\n",
    "def plot_confusion_matrix(cm, classes,\n",
    "                          normalize=False,\n",
    "                          title='Confusion matrix',\n",
    "                          cmap=plt.cm.Blues):\n",
    "    \"\"\"\n",
    "    This function prints and plots the confusion matrix.\n",
    "    Normalization can be applied by setting `normalize=True`.\n",
    "    \"\"\"\n",
    "    plt.imshow(cm, interpolation='nearest', cmap=cmap)\n",
    "    plt.title(title)\n",
    "    plt.colorbar()\n",
    "    tick_marks = np.arange(len(classes))\n",
    "    plt.xticks(tick_marks, classes, rotation=45)\n",
    "    plt.yticks(tick_marks, classes)\n",
    "\n",
    "    if normalize:\n",
    "        cm = cm.astype('float') / cm.sum(axis=1)[:, np.newaxis]\n",
    "\n",
    "    thresh = cm.max() / 2.\n",
    "    for i, j in itertools.product(range(cm.shape[0]), range(cm.shape[1])):\n",
    "        plt.text(j, i, cm[i, j],\n",
    "                 horizontalalignment=\"center\",\n",
    "                 color=\"white\" if cm[i, j] > thresh else \"black\")\n",
    "\n",
    "    plt.tight_layout()\n",
    "    plt.ylabel('True label')\n",
    "    plt.xlabel('Predicted label')"
   ]
  },
  {
   "cell_type": "code",
   "execution_count": 13,
   "metadata": {},
   "outputs": [
    {
     "name": "stdout",
     "output_type": "stream",
     "text": [
      "63/63 [==============================] - 0s 1ms/step\n",
      "(2003, 7)\n",
      "63/63 [==============================] - 0s 2ms/step - loss: 1.1760 - accuracy: 0.6390\n",
      "Test: accuracy = 0.639041  ;  loss = 1.176040\n"
     ]
    },
    {
     "data": {
      "image/png": "[encoded data removed]",
      "text/plain": [
       "<Figure size 640x480 with 2 Axes>"
      ]
     },
     "metadata": {},
     "output_type": "display_data"
    }
   ],
   "source": [
    "from sklearn.metrics import confusion_matrix\n",
    "\n",
    "Y_pred = model.predict(X_test)\n",
    "print(Y_pred.shape)\n",
    "Y_pred_classes = np.argmax(Y_pred, axis = 1) \n",
    "Y_true = np.argmax(y_test, axis = 1) \n",
    "confusion_mtx = confusion_matrix(Y_true, Y_pred_classes)\n",
    "plot_confusion_matrix(confusion_mtx, classes = range(7)) \n",
    "\n",
    "loss_t, accuracy_t = model.evaluate(X_test, y_test, verbose=1)\n",
    "print(\"Test: accuracy = %f  ;  loss = %f\" % (accuracy_t, loss_t))"
   ]
  },
  {
   "cell_type": "code",
   "execution_count": 14,
   "metadata": {},
   "outputs": [
    {
     "name": "stderr",
     "output_type": "stream",
     "text": [
      "WARNING:absl:Found untraced functions such as _jit_compiled_convolution_op, _update_step_xla while saving (showing 2 of 2). These functions will not be directly callable after loading.\n"
     ]
    },
    {
     "name": "stdout",
     "output_type": "stream",
     "text": [
      "INFO:tensorflow:Assets written to: ./baseline-IDG-lr0.001-epoch50-batchsize32/assets\n"
     ]
    },
    {
     "name": "stderr",
     "output_type": "stream",
     "text": [
      "INFO:tensorflow:Assets written to: ./baseline-IDG-lr0.001-epoch50-batchsize32/assets\n"
     ]
    }
   ],
   "source": [
    "from sklearn.metrics import classification_report\n",
    "\n",
    "model.save(folder)\n",
    "\n",
    "with open(folder + \"/scores.txt\", \"w\") as f:\n",
    "    f.write(classification_report(Y_true, Y_pred.argmax(axis=1), target_names=labels))\n"
   ]
  }
 ],
 "metadata": {
  "kernelspec": {
   "display_name": "tf",
   "language": "python",
   "name": "python3"
  },
  "language_info": {
   "codemirror_mode": {
    "name": "ipython",
    "version": 3
   },
   "file_extension": ".py",
   "mimetype": "text/x-python",
   "name": "python",
   "nbconvert_exporter": "python",
   "pygments_lexer": "ipython3",
   "version": "3.8.10"
  },
  "orig_nbformat": 4,
  "vscode": {
   "interpreter": {
    "hash": "89c68586b7f3cac7d97ac03823fbb56d98586b9b2fcab3a44b8e5a261d192387"
   }
  }
 },
 "nbformat": 4,
 "nbformat_minor": 2
}
