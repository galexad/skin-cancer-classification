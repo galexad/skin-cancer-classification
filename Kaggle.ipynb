{
 "cells": [
  {
   "attachments": {},
   "cell_type": "markdown",
   "metadata": {},
   "source": [
    "Code from: https://www.kaggle.com/code/sid321axn/step-wise-approach-cnn-model-77-0344-accuracy"
   ]
  },
  {
   "cell_type": "code",
   "execution_count": 1,
   "metadata": {},
   "outputs": [
    {
     "name": "stderr",
     "output_type": "stream",
     "text": [
      "2023-03-20 15:27:17.023011: I tensorflow/core/platform/cpu_feature_guard.cc:193] This TensorFlow binary is optimized with oneAPI Deep Neural Network Library (oneDNN) to use the following CPU instructions in performance-critical operations:  AVX2 FMA\n",
      "To enable them in other operations, rebuild TensorFlow with the appropriate compiler flags.\n",
      "2023-03-20 15:27:17.958254: W tensorflow/compiler/xla/stream_executor/platform/default/dso_loader.cc:64] Could not load dynamic library 'libnvinfer.so.7'; dlerror: libnvinfer.so.7: cannot open shared object file: No such file or directory; LD_LIBRARY_PATH: :/home/vande/miniconda3/envs/tf/lib/\n",
      "2023-03-20 15:27:17.959398: W tensorflow/compiler/xla/stream_executor/platform/default/dso_loader.cc:64] Could not load dynamic library 'libnvinfer_plugin.so.7'; dlerror: libnvinfer_plugin.so.7: cannot open shared object file: No such file or directory; LD_LIBRARY_PATH: :/home/vande/miniconda3/envs/tf/lib/\n",
      "2023-03-20 15:27:17.959405: W tensorflow/compiler/tf2tensorrt/utils/py_utils.cc:38] TF-TRT Warning: Cannot dlopen some TensorRT libraries. If you would like to use Nvidia GPU with TensorRT, please make sure the missing libraries mentioned above are installed properly.\n"
     ]
    }
   ],
   "source": [
    "%matplotlib inline\n",
    "import matplotlib.pyplot as plt\n",
    "import numpy as np\n",
    "import pandas as pd\n",
    "import os\n",
    "from glob import glob\n",
    "import seaborn as sns\n",
    "from PIL import Image\n",
    "from sklearn.preprocessing import label_binarize\n",
    "from sklearn.metrics import confusion_matrix\n",
    "import itertools\n",
    "\n",
    "import keras\n",
    "from keras.utils.np_utils import to_categorical # used for converting labels to one-hot-encoding\n",
    "from keras.models import Sequential\n",
    "from keras.layers import Dense, Dropout, Flatten, Conv2D, MaxPool2D\n",
    "from keras import backend as K\n",
    "import itertools\n",
    "# from keras.layers.normalization import BatchNormalization\n",
    "from keras.utils.np_utils import to_categorical # convert to one-hot-encoding\n",
    "\n",
    "from keras.optimizers import Adam\n",
    "from keras.preprocessing.image import ImageDataGenerator\n",
    "from keras.callbacks import ReduceLROnPlateau\n",
    "from sklearn.model_selection import train_test_split\n",
    "\n",
    "np.random.seed(42069) "
   ]
  },
  {
   "cell_type": "code",
   "execution_count": 2,
   "metadata": {},
   "outputs": [],
   "source": [
    "def plot_model_history(model_history):\n",
    "    fig, axs = plt.subplots(1,2,figsize=(15,5))\n",
    "    # summarize history for accuracy\n",
    "    axs[0].plot(range(1,len(model_history.history['accuracy'])+1),model_history.history['accuracy'])\n",
    "    axs[0].plot(range(1,len(model_history.history['val_accuracy'])+1),model_history.history['val_accuracy'])\n",
    "    axs[0].set_title('Model Accuracy')\n",
    "    axs[0].set_ylabel('Accuracy')\n",
    "    axs[0].set_xlabel('Epoch')\n",
    "    axs[0].legend(['train', 'val'], loc='best')\n",
    "    # summarize history for loss\n",
    "    axs[1].plot(range(1,len(model_history.history['loss'])+1),model_history.history['loss'])\n",
    "    axs[1].plot(range(1,len(model_history.history['val_loss'])+1),model_history.history['val_loss'])\n",
    "    axs[1].set_title('Model Loss')\n",
    "    axs[1].set_ylabel('Loss')\n",
    "    axs[1].set_xlabel('Epoch')\n",
    "    axs[1].legend(['train', 'val'], loc='best')\n",
    "    plt.show()"
   ]
  },
  {
   "cell_type": "code",
   "execution_count": 3,
   "metadata": {},
   "outputs": [],
   "source": [
    "lesion_type_dict = {\n",
    "    'nv': 'Melanocytic nevi',\n",
    "    'mel': 'Melanoma',\n",
    "    'bkl': 'Benign keratosis-like lesions ',\n",
    "    'bcc': 'Basal cell carcinoma',\n",
    "    'akiec': 'Actinic keratoses',\n",
    "    'vasc': 'Vascular lesions',\n",
    "    'df': 'Dermatofibroma'\n",
    "}"
   ]
  },
  {
   "cell_type": "code",
   "execution_count": 4,
   "metadata": {},
   "outputs": [],
   "source": [
    "skin_df = pd.read_csv('metadata.csv')\n",
    "\n",
    "skin_df['path'] = skin_df['image_id'].map(lambda id: os.path.join(\"images\", id + \".jpg\"))\n",
    "skin_df['cell_type'] = skin_df['dx'].map(lesion_type_dict.get) \n",
    "skin_df['cell_type_idx'] = pd.Categorical(skin_df['cell_type']).codes"
   ]
  },
  {
   "cell_type": "code",
   "execution_count": 5,
   "metadata": {},
   "outputs": [],
   "source": [
    "skin_df['image'] = skin_df['path'].map(lambda x: np.asarray(Image.open(x).resize((100,75))))"
   ]
  },
  {
   "cell_type": "code",
   "execution_count": 6,
   "metadata": {},
   "outputs": [],
   "source": [
    "features=skin_df.drop(columns=['cell_type_idx'],axis=1)\n",
    "target=skin_df['cell_type_idx']"
   ]
  },
  {
   "cell_type": "code",
   "execution_count": 7,
   "metadata": {},
   "outputs": [],
   "source": [
    "x_train_o, x_test_o, y_train_o, y_test_o = train_test_split(features, target, test_size=0.20,random_state=1234)"
   ]
  },
  {
   "cell_type": "code",
   "execution_count": 8,
   "metadata": {},
   "outputs": [],
   "source": [
    "x_train = np.asarray(x_train_o['image'].tolist())\n",
    "x_test = np.asarray(x_test_o['image'].tolist())\n",
    "\n",
    "x_train_mean = np.mean(x_train)\n",
    "x_train_std = np.std(x_train)\n",
    "\n",
    "x_test_mean = np.mean(x_test)\n",
    "x_test_std = np.std(x_test)\n",
    "\n",
    "x_train = (x_train - x_train_mean)/x_train_std\n",
    "x_test = (x_test - x_test_mean)/x_test_std"
   ]
  },
  {
   "cell_type": "code",
   "execution_count": 9,
   "metadata": {},
   "outputs": [],
   "source": [
    "y_train = to_categorical(y_train_o, num_classes = 7)\n",
    "y_test = to_categorical(y_test_o, num_classes = 7)"
   ]
  },
  {
   "cell_type": "code",
   "execution_count": 10,
   "metadata": {},
   "outputs": [],
   "source": [
    "x_train, x_validate, y_train, y_validate = train_test_split(x_train, y_train, test_size = 0.1, random_state = 2)"
   ]
  },
  {
   "cell_type": "code",
   "execution_count": 11,
   "metadata": {},
   "outputs": [],
   "source": [
    "x_train = x_train.reshape(x_train.shape[0], *(75, 100, 3))\n",
    "x_test = x_test.reshape(x_test.shape[0], *(75, 100, 3))\n",
    "x_validate = x_validate.reshape(x_validate.shape[0], *(75, 100, 3))"
   ]
  },
  {
   "cell_type": "code",
   "execution_count": 12,
   "metadata": {},
   "outputs": [
    {
     "name": "stderr",
     "output_type": "stream",
     "text": [
      "2023-03-20 15:29:13.720137: I tensorflow/compiler/xla/stream_executor/cuda/cuda_gpu_executor.cc:967] could not open file to read NUMA node: /sys/bus/pci/devices/0000:06:00.0/numa_node\n",
      "Your kernel may have been built without NUMA support.\n"
     ]
    },
    {
     "name": "stdout",
     "output_type": "stream",
     "text": [
      "Model: \"sequential\"\n",
      "_________________________________________________________________\n",
      " Layer (type)                Output Shape              Param #   \n",
      "=================================================================\n",
      " conv2d (Conv2D)             (None, 75, 100, 32)       896       \n",
      "                                                                 \n",
      " conv2d_1 (Conv2D)           (None, 75, 100, 32)       9248      \n",
      "                                                                 \n",
      " max_pooling2d (MaxPooling2D  (None, 37, 50, 32)       0         \n",
      " )                                                               \n",
      "                                                                 \n",
      " dropout (Dropout)           (None, 37, 50, 32)        0         \n",
      "                                                                 \n",
      " conv2d_2 (Conv2D)           (None, 37, 50, 64)        18496     \n",
      "                                                                 \n",
      " conv2d_3 (Conv2D)           (None, 37, 50, 64)        36928     \n",
      "                                                                 \n",
      " max_pooling2d_1 (MaxPooling  (None, 18, 25, 64)       0         \n",
      " 2D)                                                             \n",
      "                                                                 \n",
      " dropout_1 (Dropout)         (None, 18, 25, 64)        0         \n",
      "                                                                 \n",
      " flatten (Flatten)           (None, 28800)             0         \n",
      "                                                                 \n",
      " dense (Dense)               (None, 128)               3686528   \n",
      "                                                                 \n",
      " dropout_2 (Dropout)         (None, 128)               0         \n",
      "                                                                 \n",
      " dense_1 (Dense)             (None, 7)                 903       \n",
      "                                                                 \n",
      "=================================================================\n",
      "Total params: 3,752,999\n",
      "Trainable params: 3,752,999\n",
      "Non-trainable params: 0\n",
      "_________________________________________________________________\n"
     ]
    },
    {
     "name": "stderr",
     "output_type": "stream",
     "text": [
      "2023-03-20 15:29:13.747385: I tensorflow/compiler/xla/stream_executor/cuda/cuda_gpu_executor.cc:967] could not open file to read NUMA node: /sys/bus/pci/devices/0000:06:00.0/numa_node\n",
      "Your kernel may have been built without NUMA support.\n",
      "2023-03-20 15:29:13.747434: I tensorflow/compiler/xla/stream_executor/cuda/cuda_gpu_executor.cc:967] could not open file to read NUMA node: /sys/bus/pci/devices/0000:06:00.0/numa_node\n",
      "Your kernel may have been built without NUMA support.\n",
      "2023-03-20 15:29:13.748386: I tensorflow/core/platform/cpu_feature_guard.cc:193] This TensorFlow binary is optimized with oneAPI Deep Neural Network Library (oneDNN) to use the following CPU instructions in performance-critical operations:  AVX2 FMA\n",
      "To enable them in other operations, rebuild TensorFlow with the appropriate compiler flags.\n",
      "2023-03-20 15:29:13.749492: I tensorflow/compiler/xla/stream_executor/cuda/cuda_gpu_executor.cc:967] could not open file to read NUMA node: /sys/bus/pci/devices/0000:06:00.0/numa_node\n",
      "Your kernel may have been built without NUMA support.\n",
      "2023-03-20 15:29:13.749540: I tensorflow/compiler/xla/stream_executor/cuda/cuda_gpu_executor.cc:967] could not open file to read NUMA node: /sys/bus/pci/devices/0000:06:00.0/numa_node\n",
      "Your kernel may have been built without NUMA support.\n",
      "2023-03-20 15:29:13.749575: I tensorflow/compiler/xla/stream_executor/cuda/cuda_gpu_executor.cc:967] could not open file to read NUMA node: /sys/bus/pci/devices/0000:06:00.0/numa_node\n",
      "Your kernel may have been built without NUMA support.\n",
      "2023-03-20 15:29:14.526595: I tensorflow/compiler/xla/stream_executor/cuda/cuda_gpu_executor.cc:967] could not open file to read NUMA node: /sys/bus/pci/devices/0000:06:00.0/numa_node\n",
      "Your kernel may have been built without NUMA support.\n",
      "2023-03-20 15:29:14.526900: I tensorflow/compiler/xla/stream_executor/cuda/cuda_gpu_executor.cc:967] could not open file to read NUMA node: /sys/bus/pci/devices/0000:06:00.0/numa_node\n",
      "Your kernel may have been built without NUMA support.\n",
      "2023-03-20 15:29:14.526910: I tensorflow/core/common_runtime/gpu/gpu_device.cc:1700] Could not identify NUMA node of platform GPU id 0, defaulting to 0.  Your kernel may not have been built with NUMA support.\n",
      "2023-03-20 15:29:14.526959: I tensorflow/compiler/xla/stream_executor/cuda/cuda_gpu_executor.cc:967] could not open file to read NUMA node: /sys/bus/pci/devices/0000:06:00.0/numa_node\n",
      "Your kernel may have been built without NUMA support.\n",
      "2023-03-20 15:29:14.527190: I tensorflow/core/common_runtime/gpu/gpu_device.cc:1613] Created device /job:localhost/replica:0/task:0/device:GPU:0 with 13344 MB memory:  -> device: 0, name: NVIDIA GeForce RTX 4080, pci bus id: 0000:06:00.0, compute capability: 8.9\n"
     ]
    }
   ],
   "source": [
    "input_shape = (75, 100, 3)\n",
    "num_classes = 7\n",
    "\n",
    "model = Sequential()\n",
    "model.add(Conv2D(32, kernel_size=(3, 3),activation='relu',padding = 'Same',input_shape=input_shape))\n",
    "model.add(Conv2D(32,kernel_size=(3, 3), activation='relu',padding = 'Same',))\n",
    "model.add(MaxPool2D(pool_size = (2, 2)))\n",
    "model.add(Dropout(0.25))\n",
    "\n",
    "model.add(Conv2D(64, (3, 3), activation='relu',padding = 'Same'))\n",
    "model.add(Conv2D(64, (3, 3), activation='relu',padding = 'Same'))\n",
    "model.add(MaxPool2D(pool_size=(2, 2)))\n",
    "model.add(Dropout(0.40))\n",
    "\n",
    "model.add(Flatten())\n",
    "model.add(Dense(128, activation='relu'))\n",
    "model.add(Dropout(0.5))\n",
    "model.add(Dense(num_classes, activation='softmax'))\n",
    "model.summary()"
   ]
  },
  {
   "cell_type": "code",
   "execution_count": 13,
   "metadata": {},
   "outputs": [
    {
     "name": "stderr",
     "output_type": "stream",
     "text": [
      "/home/vande/miniconda3/envs/tf/lib/python3.9/site-packages/keras/optimizers/optimizer_v2/adam.py:117: UserWarning: The `lr` argument is deprecated, use `learning_rate` instead.\n",
      "  super().__init__(name, **kwargs)\n"
     ]
    }
   ],
   "source": [
    "optimizer = Adam(lr=0.001, beta_1=0.9, beta_2=0.999, epsilon=None, decay=0.0, amsgrad=False)"
   ]
  },
  {
   "cell_type": "code",
   "execution_count": 14,
   "metadata": {},
   "outputs": [],
   "source": [
    "model.compile(optimizer = optimizer , loss = \"categorical_crossentropy\", metrics=[\"accuracy\"])"
   ]
  },
  {
   "cell_type": "code",
   "execution_count": 15,
   "metadata": {},
   "outputs": [],
   "source": [
    "learning_rate_reduction = ReduceLROnPlateau(monitor='val_accuracy', \n",
    "                                            patience=3, \n",
    "                                            verbose=1, \n",
    "                                            factor=0.5, \n",
    "                                            min_lr=0.00001)"
   ]
  },
  {
   "cell_type": "code",
   "execution_count": 16,
   "metadata": {},
   "outputs": [],
   "source": [
    "datagen = ImageDataGenerator(\n",
    "        featurewise_center=False,  # set input mean to 0 over the dataset\n",
    "        samplewise_center=False,  # set each sample mean to 0\n",
    "        featurewise_std_normalization=False,  # divide inputs by std of the dataset\n",
    "        samplewise_std_normalization=False,  # divide each input by its std\n",
    "        zca_whitening=False,  # apply ZCA whitening\n",
    "        rotation_range=180,  # randomly rotate images in the range (degrees, 0 to 180)\n",
    "        zoom_range = 0.1, # Randomly zoom image \n",
    "        width_shift_range=0.1,  # randomly shift images horizontally (fraction of total width)\n",
    "        height_shift_range=0.1,  # randomly shift images vertically (fraction of total height)\n",
    "        horizontal_flip=False,  # randomly flip images\n",
    "        vertical_flip=False)  # randomly flip images\n",
    "\n",
    "datagen.fit(x_train)"
   ]
  },
  {
   "cell_type": "code",
   "execution_count": 17,
   "metadata": {},
   "outputs": [
    {
     "name": "stdout",
     "output_type": "stream",
     "text": [
      "Epoch 1/50\n"
     ]
    },
    {
     "name": "stderr",
     "output_type": "stream",
     "text": [
      "/tmp/ipykernel_379/3721640255.py:3: UserWarning: `Model.fit_generator` is deprecated and will be removed in a future version. Please use `Model.fit`, which supports generators.\n",
      "  history = model.fit_generator(datagen.flow(x_train,y_train, batch_size=batch_size),\n",
      "2023-03-20 15:29:15.748012: E tensorflow/core/grappler/optimizers/meta_optimizer.cc:954] layout failed: INVALID_ARGUMENT: Size of values 0 does not match size of permutation 4 @ fanin shape insequential/dropout/dropout/SelectV2-2-TransposeNHWCToNCHW-LayoutOptimizer\n",
      "2023-03-20 15:29:16.376017: I tensorflow/compiler/xla/stream_executor/cuda/cuda_dnn.cc:428] Loaded cuDNN version 8100\n",
      "2023-03-20 15:29:17.237834: W tensorflow/compiler/xla/stream_executor/gpu/asm_compiler.cc:234] Falling back to the CUDA driver for PTX compilation; ptxas does not support CC 8.9\n",
      "2023-03-20 15:29:17.237864: W tensorflow/compiler/xla/stream_executor/gpu/asm_compiler.cc:237] Used ptxas at ptxas\n",
      "2023-03-20 15:29:17.237898: W tensorflow/compiler/xla/stream_executor/gpu/redzone_allocator.cc:318] UNIMPLEMENTED: ptxas ptxas too old. Falling back to the driver to compile.\n",
      "Relying on driver to perform ptx compilation. \n",
      "Modify $PATH to customize ptxas location.\n",
      "This message will be only logged once.\n",
      "2023-03-20 15:29:17.969036: I tensorflow/compiler/xla/stream_executor/cuda/cuda_blas.cc:630] TensorFloat-32 will be used for the matrix multiplication. This will only be logged once.\n"
     ]
    },
    {
     "name": "stdout",
     "output_type": "stream",
     "text": [
      "721/721 [==============================] - 11s 11ms/step - loss: 1.0519 - accuracy: 0.6662 - val_loss: 1.0115 - val_accuracy: 0.6808 - lr: 0.0010\n",
      "Epoch 2/50\n",
      "721/721 [==============================] - 7s 10ms/step - loss: 0.9739 - accuracy: 0.6689 - val_loss: 0.9352 - val_accuracy: 0.6808 - lr: 0.0010\n",
      "Epoch 3/50\n",
      "721/721 [==============================] - 7s 10ms/step - loss: 0.9501 - accuracy: 0.6703 - val_loss: 0.8671 - val_accuracy: 0.6833 - lr: 0.0010\n",
      "Epoch 4/50\n",
      "721/721 [==============================] - 7s 10ms/step - loss: 0.9143 - accuracy: 0.6739 - val_loss: 0.8566 - val_accuracy: 0.6845 - lr: 0.0010\n",
      "Epoch 5/50\n",
      "721/721 [==============================] - 7s 10ms/step - loss: 0.9091 - accuracy: 0.6743 - val_loss: 0.8806 - val_accuracy: 0.6895 - lr: 0.0010\n",
      "Epoch 6/50\n",
      "721/721 [==============================] - 7s 10ms/step - loss: 0.8725 - accuracy: 0.6785 - val_loss: 0.8050 - val_accuracy: 0.7157 - lr: 0.0010\n",
      "Epoch 7/50\n",
      "721/721 [==============================] - 7s 10ms/step - loss: 0.8608 - accuracy: 0.6859 - val_loss: 0.8876 - val_accuracy: 0.7095 - lr: 0.0010\n",
      "Epoch 8/50\n",
      "721/721 [==============================] - 7s 10ms/step - loss: 0.8449 - accuracy: 0.6947 - val_loss: 0.8031 - val_accuracy: 0.7120 - lr: 0.0010\n",
      "Epoch 9/50\n",
      "720/721 [============================>.] - ETA: 0s - loss: 0.8343 - accuracy: 0.6989\n",
      "Epoch 9: ReduceLROnPlateau reducing learning rate to 0.0005000000237487257.\n",
      "721/721 [==============================] - 7s 10ms/step - loss: 0.8339 - accuracy: 0.6992 - val_loss: 0.7574 - val_accuracy: 0.7132 - lr: 0.0010\n",
      "Epoch 10/50\n",
      "721/721 [==============================] - 7s 10ms/step - loss: 0.7827 - accuracy: 0.7128 - val_loss: 0.7499 - val_accuracy: 0.7195 - lr: 5.0000e-04\n",
      "Epoch 11/50\n",
      "721/721 [==============================] - 7s 10ms/step - loss: 0.7776 - accuracy: 0.7114 - val_loss: 0.7291 - val_accuracy: 0.7244 - lr: 5.0000e-04\n",
      "Epoch 12/50\n",
      "721/721 [==============================] - 8s 10ms/step - loss: 0.7599 - accuracy: 0.7196 - val_loss: 0.7397 - val_accuracy: 0.7357 - lr: 5.0000e-04\n",
      "Epoch 13/50\n",
      "721/721 [==============================] - 8s 11ms/step - loss: 0.7699 - accuracy: 0.7179 - val_loss: 0.7184 - val_accuracy: 0.7357 - lr: 5.0000e-04\n",
      "Epoch 14/50\n",
      "721/721 [==============================] - 7s 10ms/step - loss: 0.7598 - accuracy: 0.7214 - val_loss: 0.7113 - val_accuracy: 0.7344 - lr: 5.0000e-04\n",
      "Epoch 15/50\n",
      "721/721 [==============================] - ETA: 0s - loss: 0.7575 - accuracy: 0.7298\n",
      "Epoch 15: ReduceLROnPlateau reducing learning rate to 0.0002500000118743628.\n",
      "721/721 [==============================] - 7s 10ms/step - loss: 0.7575 - accuracy: 0.7298 - val_loss: 0.6889 - val_accuracy: 0.7357 - lr: 5.0000e-04\n",
      "Epoch 16/50\n",
      "721/721 [==============================] - 7s 10ms/step - loss: 0.7382 - accuracy: 0.7254 - val_loss: 0.6786 - val_accuracy: 0.7406 - lr: 2.5000e-04\n",
      "Epoch 17/50\n",
      "721/721 [==============================] - 8s 10ms/step - loss: 0.7339 - accuracy: 0.7293 - val_loss: 0.6688 - val_accuracy: 0.7606 - lr: 2.5000e-04\n",
      "Epoch 18/50\n",
      "721/721 [==============================] - 7s 10ms/step - loss: 0.7246 - accuracy: 0.7322 - val_loss: 0.6729 - val_accuracy: 0.7531 - lr: 2.5000e-04\n",
      "Epoch 19/50\n",
      "721/721 [==============================] - 7s 10ms/step - loss: 0.7177 - accuracy: 0.7398 - val_loss: 0.6882 - val_accuracy: 0.7481 - lr: 2.5000e-04\n",
      "Epoch 20/50\n",
      "719/721 [============================>.] - ETA: 0s - loss: 0.7126 - accuracy: 0.7362\n",
      "Epoch 20: ReduceLROnPlateau reducing learning rate to 0.0001250000059371814.\n",
      "721/721 [==============================] - 7s 10ms/step - loss: 0.7123 - accuracy: 0.7361 - val_loss: 0.6721 - val_accuracy: 0.7519 - lr: 2.5000e-04\n",
      "Epoch 21/50\n",
      "721/721 [==============================] - 7s 10ms/step - loss: 0.6992 - accuracy: 0.7391 - val_loss: 0.6653 - val_accuracy: 0.7544 - lr: 1.2500e-04\n",
      "Epoch 22/50\n",
      "721/721 [==============================] - 7s 10ms/step - loss: 0.7051 - accuracy: 0.7322 - val_loss: 0.6639 - val_accuracy: 0.7481 - lr: 1.2500e-04\n",
      "Epoch 23/50\n",
      "721/721 [==============================] - ETA: 0s - loss: 0.6960 - accuracy: 0.7440\n",
      "Epoch 23: ReduceLROnPlateau reducing learning rate to 6.25000029685907e-05.\n",
      "721/721 [==============================] - 7s 10ms/step - loss: 0.6960 - accuracy: 0.7440 - val_loss: 0.6731 - val_accuracy: 0.7506 - lr: 1.2500e-04\n",
      "Epoch 24/50\n",
      "721/721 [==============================] - 7s 10ms/step - loss: 0.6899 - accuracy: 0.7423 - val_loss: 0.6555 - val_accuracy: 0.7569 - lr: 6.2500e-05\n",
      "Epoch 25/50\n",
      "721/721 [==============================] - 7s 10ms/step - loss: 0.6903 - accuracy: 0.7440 - val_loss: 0.6577 - val_accuracy: 0.7481 - lr: 6.2500e-05\n",
      "Epoch 26/50\n",
      "718/721 [============================>.] - ETA: 0s - loss: 0.6929 - accuracy: 0.7376\n",
      "Epoch 26: ReduceLROnPlateau reducing learning rate to 3.125000148429535e-05.\n",
      "721/721 [==============================] - 7s 10ms/step - loss: 0.6921 - accuracy: 0.7381 - val_loss: 0.6540 - val_accuracy: 0.7544 - lr: 6.2500e-05\n",
      "Epoch 27/50\n",
      "721/721 [==============================] - 7s 10ms/step - loss: 0.6897 - accuracy: 0.7485 - val_loss: 0.6508 - val_accuracy: 0.7506 - lr: 3.1250e-05\n",
      "Epoch 28/50\n",
      "721/721 [==============================] - 7s 10ms/step - loss: 0.6816 - accuracy: 0.7436 - val_loss: 0.6546 - val_accuracy: 0.7519 - lr: 3.1250e-05\n",
      "Epoch 29/50\n",
      "718/721 [============================>.] - ETA: 0s - loss: 0.6797 - accuracy: 0.7485\n",
      "Epoch 29: ReduceLROnPlateau reducing learning rate to 1.5625000742147677e-05.\n",
      "721/721 [==============================] - 7s 10ms/step - loss: 0.6792 - accuracy: 0.7484 - val_loss: 0.6538 - val_accuracy: 0.7531 - lr: 3.1250e-05\n",
      "Epoch 30/50\n",
      "721/721 [==============================] - 7s 10ms/step - loss: 0.6770 - accuracy: 0.7526 - val_loss: 0.6487 - val_accuracy: 0.7556 - lr: 1.5625e-05\n",
      "Epoch 31/50\n",
      "721/721 [==============================] - 7s 10ms/step - loss: 0.6808 - accuracy: 0.7481 - val_loss: 0.6491 - val_accuracy: 0.7556 - lr: 1.5625e-05\n",
      "Epoch 32/50\n",
      "718/721 [============================>.] - ETA: 0s - loss: 0.6818 - accuracy: 0.7462\n",
      "Epoch 32: ReduceLROnPlateau reducing learning rate to 1e-05.\n",
      "721/721 [==============================] - 7s 10ms/step - loss: 0.6816 - accuracy: 0.7463 - val_loss: 0.6489 - val_accuracy: 0.7544 - lr: 1.5625e-05\n",
      "Epoch 33/50\n",
      "721/721 [==============================] - 8s 10ms/step - loss: 0.6801 - accuracy: 0.7429 - val_loss: 0.6516 - val_accuracy: 0.7569 - lr: 1.0000e-05\n",
      "Epoch 34/50\n",
      "721/721 [==============================] - 7s 10ms/step - loss: 0.6823 - accuracy: 0.7510 - val_loss: 0.6515 - val_accuracy: 0.7556 - lr: 1.0000e-05\n",
      "Epoch 35/50\n",
      "721/721 [==============================] - 8s 10ms/step - loss: 0.6791 - accuracy: 0.7487 - val_loss: 0.6503 - val_accuracy: 0.7569 - lr: 1.0000e-05\n",
      "Epoch 36/50\n",
      "721/721 [==============================] - 8s 11ms/step - loss: 0.6831 - accuracy: 0.7477 - val_loss: 0.6476 - val_accuracy: 0.7569 - lr: 1.0000e-05\n",
      "Epoch 37/50\n",
      "721/721 [==============================] - 8s 11ms/step - loss: 0.6769 - accuracy: 0.7481 - val_loss: 0.6470 - val_accuracy: 0.7594 - lr: 1.0000e-05\n",
      "Epoch 38/50\n",
      "721/721 [==============================] - 8s 11ms/step - loss: 0.6774 - accuracy: 0.7474 - val_loss: 0.6490 - val_accuracy: 0.7569 - lr: 1.0000e-05\n",
      "Epoch 39/50\n",
      "721/721 [==============================] - 8s 11ms/step - loss: 0.6765 - accuracy: 0.7466 - val_loss: 0.6479 - val_accuracy: 0.7569 - lr: 1.0000e-05\n",
      "Epoch 40/50\n",
      "721/721 [==============================] - 7s 10ms/step - loss: 0.6802 - accuracy: 0.7467 - val_loss: 0.6490 - val_accuracy: 0.7556 - lr: 1.0000e-05\n",
      "Epoch 41/50\n",
      "721/721 [==============================] - 7s 10ms/step - loss: 0.6747 - accuracy: 0.7503 - val_loss: 0.6483 - val_accuracy: 0.7581 - lr: 1.0000e-05\n",
      "Epoch 42/50\n",
      "618/721 [========================>.....] - ETA: 1s - loss: 0.6654 - accuracy: 0.7552"
     ]
    }
   ],
   "source": [
    "epochs = 50 \n",
    "batch_size = 10\n",
    "history = model.fit_generator(datagen.flow(x_train,y_train, batch_size=batch_size),\n",
    "                              epochs = epochs, \n",
    "                              validation_data = (x_validate,y_validate),\n",
    "                              verbose = 1,\n",
    "                              steps_per_epoch=x_train.shape[0] // batch_size,\n",
    "                              callbacks=[learning_rate_reduction])"
   ]
  },
  {
   "cell_type": "code",
   "execution_count": null,
   "metadata": {},
   "outputs": [
    {
     "name": "stdout",
     "output_type": "stream",
     "text": [
      "63/63 [==============================] - 0s 5ms/step - loss: 0.6312 - accuracy: 0.7604\n",
      "26/26 [==============================] - 0s 4ms/step - loss: 0.6071 - accuracy: 0.7756\n",
      "Validation: accuracy = 0.775561  ;  loss_v = 0.607076\n",
      "Test: accuracy = 0.760359  ;  loss = 0.631202\n"
     ]
    }
   ],
   "source": [
    "loss, accuracy = model.evaluate(x_test, y_test, verbose=1)\n",
    "loss_v, accuracy_v = model.evaluate(x_validate, y_validate, verbose=1)\n",
    "print(\"Validation: accuracy = %f  ;  loss_v = %f\" % (accuracy_v, loss_v))\n",
    "print(\"Test: accuracy = %f  ;  loss = %f\" % (accuracy, loss))\n",
    "model.save(\"model.h5\")"
   ]
  },
  {
   "cell_type": "code",
   "execution_count": null,
   "metadata": {},
   "outputs": [
    {
     "data": {
      "image/png": "[encoded data removed]",
      "text/plain": [
       "<Figure size 1500x500 with 2 Axes>"
      ]
     },
     "metadata": {},
     "output_type": "display_data"
    }
   ],
   "source": [
    "plot_model_history(history)"
   ]
  }
 ],
 "metadata": {
  "kernelspec": {
   "display_name": "tf",
   "language": "python",
   "name": "python3"
  },
  "language_info": {
   "codemirror_mode": {
    "name": "ipython",
    "version": 3
   },
   "file_extension": ".py",
   "mimetype": "text/x-python",
   "name": "python",
   "nbconvert_exporter": "python",
   "pygments_lexer": "ipython3",
   "version": "3.9.16"
  },
  "orig_nbformat": 4
 },
 "nbformat": 4,
 "nbformat_minor": 2
}
